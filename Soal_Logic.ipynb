{
  "nbformat": 4,
  "nbformat_minor": 0,
  "metadata": {
    "colab": {
      "provenance": []
    },
    "kernelspec": {
      "name": "python3",
      "display_name": "Python 3"
    },
    "language_info": {
      "name": "python"
    }
  },
  "cells": [
    {
      "cell_type": "markdown",
      "source": [
        "SOAL LOGIC NOMOR 1"
      ],
      "metadata": {
        "id": "wNVkrjU_NB8O"
      }
    },
    {
      "cell_type": "code",
      "execution_count": 13,
      "metadata": {
        "colab": {
          "base_uri": "https://localhost:8080/"
        },
        "id": "I3kEw-IRLvPt",
        "outputId": "bbd5e7e8-072f-429b-877e-7b930f9a80d4"
      },
      "outputs": [
        {
          "output_type": "stream",
          "name": "stdout",
          "text": [
            "1\n"
          ]
        }
      ],
      "source": [
        "input_data = None (#Ubah input_data secara manual)\n",
        "\n",
        "if input_data is None:\n",
        "  print(\"0\")\n",
        "else:\n",
        "  print(\"1\")"
      ]
    },
    {
      "cell_type": "markdown",
      "source": [
        "SOAL LOGIC NOMOR 2"
      ],
      "metadata": {
        "id": "kb50UxjGNH9e"
      }
    },
    {
      "cell_type": "code",
      "source": [
        "import string\n",
        "alphabet = list(string.ascii_lowercase)\n",
        "\n",
        "def cek_string(str_1):\n",
        "    \n",
        "    if str_1 in alphabet:\n",
        "      print(\"0\")\n",
        "    else:\n",
        "     print(\"1\")\n",
        "\n",
        "\n",
        "str_1 = input('Input String : ')\n",
        "cek_string(str_1)\n",
        "\n",
        "\n"
      ],
      "metadata": {
        "colab": {
          "base_uri": "https://localhost:8080/"
        },
        "id": "CZ_rAMmdNJiS",
        "outputId": "b2eddc0d-08c8-4dc8-83a8-b030b723a9b2"
      },
      "execution_count": 19,
      "outputs": [
        {
          "output_type": "stream",
          "name": "stdout",
          "text": [
            "Input String : 1\n",
            "1\n"
          ]
        }
      ]
    },
    {
      "cell_type": "markdown",
      "source": [
        "SOAL LOGIC NOMOR 3"
      ],
      "metadata": {
        "id": "ItKK4CWaOGzi"
      }
    },
    {
      "cell_type": "code",
      "source": [
        "input_huruf = input(\"Input Huruf Disini : \")\n",
        "\n",
        "count = 0\n",
        "\n",
        "for i in input_huruf:\n",
        "  if (i in \"aAeEiIoOuU\"):\n",
        "    count += 1\n",
        "\n",
        "print(\"Total : \", count)"
      ],
      "metadata": {
        "colab": {
          "base_uri": "https://localhost:8080/"
        },
        "id": "x06Wqc4ANeTE",
        "outputId": "3eacf70b-41c7-4291-b728-38b312f113ec"
      },
      "execution_count": 22,
      "outputs": [
        {
          "output_type": "stream",
          "name": "stdout",
          "text": [
            "Input Huruf Disini : Ameera\n",
            "Total :  4\n"
          ]
        }
      ]
    },
    {
      "cell_type": "markdown",
      "source": [
        "SOAL LOGIC NOMOR 5"
      ],
      "metadata": {
        "id": "TDuwQOB1O7Gs"
      }
    },
    {
      "cell_type": "code",
      "source": [
        "import re\n",
        "\n",
        "str1=\"@@HALOWORLD@@\"\n",
        "str2= \"HALOWORLD\"\n",
        "\n",
        "check = re.compile('[@_!#$%^&*()<>?/\\|}{:]')\n",
        "\n",
        "if(check.search(str1) == None): #ganti str1 menjadi str 2 dan sebaliknya\n",
        "  print(\"Tidak Mengandung Special Character\")\n",
        "else:\n",
        "  print(\"Mengandung Special Character\")"
      ],
      "metadata": {
        "colab": {
          "base_uri": "https://localhost:8080/"
        },
        "id": "4Y4CvTh0OxPG",
        "outputId": "10c32871-bdba-49a3-e2be-17666d2ff984"
      },
      "execution_count": 37,
      "outputs": [
        {
          "output_type": "stream",
          "name": "stdout",
          "text": [
            "Mengandung Special Character\n"
          ]
        }
      ]
    },
    {
      "cell_type": "code",
      "source": [],
      "metadata": {
        "id": "GHOnLzOvPUS7"
      },
      "execution_count": null,
      "outputs": []
    }
  ]
}